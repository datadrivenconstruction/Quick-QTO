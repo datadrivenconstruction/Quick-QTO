{
  "nbformat": 4,
  "nbformat_minor": 0,
  "metadata": {
    "accelerator": "GPU",
    "colab": {
      "name": "Quick QTO for all files in a folder.ipynb",
      "provenance": [],
      "collapsed_sections": [],
      "machine_shape": "hm"
    },
    "kernelspec": {
      "display_name": "Python 3",
      "name": "python3"
    },
    "language_info": {
      "name": "python"
    }
  },
  "cells": [
    {
      "cell_type": "code",
      "metadata": {
        "id": "ZBp-fvwm0ans"
      },
      "source": [
        "import os\n",
        "import pandas as pd\n",
        "import re\n",
        "import numpy as np\n",
        "\n",
        "# Determining the path where the files are located and creating a new folder\n",
        "path = '/content/drive/MyDrive/BIMEXCEL/ProjectRevitIFC'\n",
        "try:\n",
        "  os.mkdir(path + '/quick_rough_estimate')\n",
        "except:\n",
        "  pass"
      ],
      "execution_count": null,
      "outputs": []
    },
    {
      "cell_type": "code",
      "metadata": {
        "id": "rtUmsK9Cyqh2"
      },
      "source": [
        "# Properties for which we want to collect data on the amount of volume\n",
        "propstr = ['Area', 'Volume', 'Width', 'Length', 'Perimeter', 'öööasdöööfake']\n",
        "\n",
        "# The type of property by which the grouping will be carried out\n",
        "search_parameter = 'Type Name'\n",
        "\n",
        "# Main function for grouping data and saving a file\n",
        "def crtable(filename):\n",
        "    df = pd.read_csv(path + '/' + filename, low_memory=False)\n",
        "    \n",
        "    #  Fetching only numbers from string values of volumetric parameters\n",
        "    propindf = []\n",
        "    for el in propstr:\n",
        "      if el in df.columns:\n",
        "        propindf.append(el)\n",
        "    def find_number(text):\n",
        "      num = re.findall(r'[0-9]+', text)\n",
        "      return \".\".join(num)\n",
        "    for el in propindf:\n",
        "      df[el] = df[el].astype(str)\n",
        "      df[el] = df[el].apply(lambda x: find_number(x))\n",
        "      df[el] = pd.to_numeric(df[el], errors='coerce')\n",
        "      df[el] = df[el].replace(np.nan, 0)\n",
        "      df[el] = df[el].replace('None', 0)\n",
        "      df[el] = df[el].fillna(0)\n",
        "    try:\n",
        "        df[el] = df[el].astype(float)\n",
        "    except:\n",
        "        pass\n",
        "\n",
        "    # Summation of all data that are grouped by search_parameter located in the propindf columns\n",
        "    df1=pd.pivot_table(df, index=[search_parameter],values=propindf,aggfunc=np.sum)\n",
        "    df1 = df1.add_prefix('Sum of ')\n",
        "\n",
        "    # Determination of the number of elements in groups\n",
        "    df2= df.groupby([search_parameter])[propindf[0]].agg(['count'])\n",
        "    dfallpar = pd.DataFrame()  \n",
        "    df['Unnamed: 0'] = df['Unnamed: 0'].astype(str)\n",
        "    comma = lambda x: ', '.join(x.unique())\n",
        "    df3 = df.groupby([search_parameter]) .agg({'Unnamed: 0': comma})\n",
        "    \n",
        "    # Collecting data into one dataframe\n",
        "    dfallpar = pd.concat([df2, df1, df3], axis=1)\n",
        "    dfallpar.rename(columns=({ 'Unnamed: 0': 'Id´s', 'count': 'Amount'}), inplace=True,)\n",
        "\n",
        "    # Saving data to file\n",
        "    dfallpar.to_excel(path + '/quick_rough_estimate/' + 'QQTO_' + filename+'.xlsx',  sheet_name='Quick QTO')\n",
        "\n",
        "for filename in os.listdir(path):\n",
        "    if filename.endswith(\"csv\"): \n",
        "        crtable(filename)    \n",
        "        \n"
      ],
      "execution_count": null,
      "outputs": []
    },
    {
      "cell_type": "code",
      "metadata": {
        "id": "RB6dg_EyHo2A"
      },
      "source": [
        ""
      ],
      "execution_count": null,
      "outputs": []
    }
  ]
}